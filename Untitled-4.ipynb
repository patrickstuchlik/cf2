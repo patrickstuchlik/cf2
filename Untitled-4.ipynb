#%%
import geopandas as gpd
# from urllib.request import urlopen
# from zipfile import ZipFile
# import zipfile
# import io
# import shapefile
# from shapely.geometry import shape  
# import osr
import pandas as pd
import requests
import matplotlib.pyplot as plt
import json

url2 = 'https://raw.githubusercontent.com/patrickstuchlik/shape1/master/stl.json'
r = requests.get(url2)

gd2 = json.loads(r.content)

gd3 = json.JSONEncoder().encode(gd2)

gdf = gpd.read_file(gd3).set_index('id')


#%%
from bokeh.io import output_notebook, show, output_file, curdoc
from bokeh.plotting import figure
from bokeh.models import GeoJSONDataSource, LinearColorMapper, ColorBar, HoverTool, Select, AdaptiveTicker, ColumnDataSource
from bokeh.palettes import brewer
import bokeh
from bokeh import palettes
from bokeh.layouts import row, column

def get_dataset(src,bg):
    return GeoJSONDataSource(geojson = gd3)

#Input GeoJSON source that contains features for plotting.
#geosource = GeoJSONDataSource(geojson = json_data)
def make_plot(source,bgvar):
    #Define a sequential multi-hue color palette.
    palette = bokeh.palettes.Plasma[7]
    #Reverse color order so that dark blue is highest obesity.
    palette = palette[::-1]
    #Instantiate LinearColorMapper that linearly maps numbers in a range, into a sequence of colors.
    color_mapper = LinearColorMapper(palette = palette, low= int(gdf[bgvar].min())    , high=int(gdf[bgvar].max()))
    #Define custom tick labels for color bar.
    #tick_labels = {'<62.0': '<62.0', '62-65': '62-65', '65-68':'65-68', '68-71':'68-71', '71-74':'71-74', '74-77':'74-77', '>77.0':'>77.0'}
    #Add hover tool
    hover = HoverTool(tooltips = [ ('Life Expectancy','@outp_life'),('Predicted Life Expectancy','@outp_outp'),(str(bgvar),('@'+str(bgvar)))])
    #Create color bar.
    ticker = AdaptiveTicker()
    #ticker.desired_num_ticks=10
    color_bar = ColorBar(color_mapper=color_mapper, label_standoff=8,width = 20, height = 500,
    border_line_color=None,location = (0,0), orientation = 'vertical',ticker=ticker)
    #Create figure object.
    p = figure(title = 'Life Expectancy', plot_height = 600 , plot_width = 450, toolbar_location = None, tools=[hover])
    p.xgrid.grid_line_color = None
    p.ygrid.grid_line_color = None
    #Add patch renderer to figure. 
    p.patches('xs','ys', source = source,fill_color = {'field' :str(bgvar), 'transform' : color_mapper}, line_color = 'black', line_width = 0.25, fill_alpha = 1)
    #Specify figure layout.
    p.add_layout(color_bar, 'right')
    return p

def update_plot(attrname, old, new):
       bef1 = bef[bef_select.value]

       src = get_dataset(gdf,bef_select.value)
       source.data.update(src.data)              
       
       
       


    

bef = {'Food Access' : 'outp_food1',
       'Milkweed' : 'outp_mw',
       'Community Gardens' : 'outp_cg',
       'Metrolink' : 'outp_metro',
       'Bike Lanes' : 'outp_bike_',
       'Public Parks' : 'outp_park1',
       'Walkability' : 'outp_walk',
       'Uninsured' : 'outp_unins'
}


#Display figure.
bef1 = 'Uninsured'

bef_select = Select(value=bef1, title='Built Environment Feature', options=sorted(bef.keys()))

source = get_dataset(gdf,bef1)
plot1 = make_plot(source,bef[bef1])

bef_select.on_change('value', update_plot)

controls = bef_select

# curdoc().add_root(row(plot1,controls))
# curdoc().title = "Life Expectancy"

output_notebook()
show(row(plot1,controls))
